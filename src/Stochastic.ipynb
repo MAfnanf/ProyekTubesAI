{
 "cells": [
  {
   "cell_type": "code",
   "execution_count": null,
   "metadata": {},
   "outputs": [],
   "source": [
    "from MagicCube import MagicCube\n",
    "import random\n",
    "import time\n",
    "import matplotlib.pyplot as plt"
   ]
  },
  {
   "cell_type": "code",
   "execution_count": null,
   "metadata": {},
   "outputs": [],
   "source": [
    "def stochasticHC(cube, maxIteration=125):\n",
    "    iteration = 0\n",
    "    history = []\n",
    "    startTime = time.time()\n",
    "\n",
    "    currentFx = cube.objectiveFunction()\n",
    "    history.append(currentFx) # ini tuh buat nyimpen current value\n",
    "\n",
    "    while iteration < maxIteration:\n",
    "        betterMoves = [] # buat nyimpen better moves yang ada\n",
    "        nextstates = cube.nextStates()\n",
    "        for nextstate in nextstates:\n",
    "            neighborFx = nextstate.objectiveFunction() # ngeliat f(x) dari next state\n",
    "            print(f\"Iterasi {iteration}: Current: {currentFx}, Neighbor: {neighborFx}\") # biar bisa mastiin udah bener apa belum output kita kalau mau diapus (dijadiin komen) juga gapapa\n",
    "\n",
    "            if neighborFx < currentFx:\n",
    "                betterMoves.append(nextstate) # masukin next states ke better moves kalau neighbor valuenya lebih baik dari current value\n",
    "\n",
    "        if betterMoves:\n",
    "            chosenState = random.choice(betterMoves) # tadi udah disimpen jadi sekarang dipilih secara random \n",
    "            cube = chosenState\n",
    "            currentFx = cube.objectiveFunction()\n",
    "            history.append(currentFx) # update current value\n",
    "        else:\n",
    "            print(\"Tidak ada solusi yang lebih baik, berhenti pada local maximum\") # kalau udah stuck\n",
    "            break\n",
    "\n",
    "        iteration += 1\n",
    "\n",
    "        if cube.isValid():\n",
    "            print(f\"Solusi ditemukan setelah {iteration} iterasi.\") # kalau udah nemu jawabannya yaitu 0\n",
    "            break\n",
    "\n",
    "    duration = time.time() - startTime \n",
    "    print(f\"Final State: {currentFx}\") \n",
    "    return cube, history, iteration, duration"
   ]
  },
  {
   "cell_type": "code",
   "execution_count": null,
   "metadata": {},
   "outputs": [],
   "source": [
    "def visualize_experiment(initialCube, finalCube, history):\n",
    "    print(\"Initial State:\")\n",
    "    initialCube.visualize()\n",
    "\n",
    "    print(\"Final State:\")\n",
    "    finalCube.visualize()\n",
    "\n",
    "    plt.plot(range(len(history)), history, color='blue')\n",
    "    plt.title('Objective Function terhadap Banyak Iterasi')\n",
    "    plt.xlabel('Iterasi')\n",
    "    plt.ylabel('Objective Function (f(x))')\n",
    "    plt.grid(True)\n",
    "    plt.show()"
   ]
  },
  {
   "cell_type": "code",
   "execution_count": null,
   "metadata": {},
   "outputs": [],
   "source": [
    "# Menjalankan kode\n",
    "if __name__ == \"__main__\":\n",
    "    cubeOrdo = 5\n",
    "    maxIteration = 50\n",
    "\n",
    "    for i in range (3) :\n",
    "        print(\"Test Nomor \" + str(i+1))\n",
    "        print(\"=========================\\n\")\n",
    "\n",
    "        initial_cube = MagicCube(cubeOrdo)\n",
    "        final_cube, history, iterations, duration = stochasticHC(initial_cube, maxIteration)\n",
    "\n",
    "        print(f\"Total Iterasi: {iterations}\")\n",
    "        print(f\"Durasi: {duration:.2f} detik\")\n",
    "        visualize_experiment(initial_cube, final_cube, history)"
   ]
  }
 ],
 "metadata": {
  "kernelspec": {
   "display_name": "Python 3",
   "language": "python",
   "name": "python3"
  },
  "language_info": {
   "codemirror_mode": {
    "name": "ipython",
    "version": 3
   },
   "file_extension": ".py",
   "mimetype": "text/x-python",
   "name": "python",
   "nbconvert_exporter": "python",
   "pygments_lexer": "ipython3",
   "version": "3.11.4"
  }
 },
 "nbformat": 4,
 "nbformat_minor": 2
}
