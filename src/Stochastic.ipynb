{
 "cells": [
  {
   "cell_type": "code",
   "execution_count": null,
   "metadata": {},
   "outputs": [],
   "source": [
    "from MagicCube import MagicCube\n",
    "import random\n",
    "import time\n",
    "import matplotlib.pyplot as plt"
   ]
  },
  {
   "cell_type": "code",
   "execution_count": null,
   "metadata": {},
   "outputs": [],
   "source": [
    "def stochastic_hill_climbing(cube, max_iter=1000):\n",
    "    iteration = 0\n",
    "    history = []\n",
    "    start_time = time.time()\n",
    "\n",
    "    current_fx = cube.objective_function()\n",
    "    history.append(current_fx) # ini tuh buat nyimpen current value\n",
    "\n",
    "    while iteration < max_iter:\n",
    "        better_moves = [] # buat nyimpen better moves yang ada\n",
    "        next_states = cube.next_states()\n",
    "        for next_state in next_states:\n",
    "            neighbor_fx = next_state.objective_function() # ngeliat f(x) dari next state\n",
    "            print(f\"Iterasi {iteration}: Current: {current_fx}, Neighbor: {neighbor_fx}\") # biar bisa mastiin udah bener apa belum output kita kalau mau diapus (dijadiin komen) juga gapapa\n",
    "\n",
    "            if neighbor_fx < current_fx:\n",
    "                better_moves.append(next_state) # masukin next states ke better moves kalau neighbor valuenya lebih baik dari current value\n",
    "\n",
    "        if better_moves:\n",
    "            chosen_state = random.choice(better_moves) # tadi udah disimpen jadi sekarang dipilih secara random \n",
    "            cube = chosen_state\n",
    "            current_fx = cube.objective_function()\n",
    "            history.append(current_fx) # update current value\n",
    "        else:\n",
    "            print(\"Tidak ada solusi yang lebih baik, berhenti pada local maximum\") # kalau udah stuck\n",
    "            break\n",
    "\n",
    "        iteration += 1\n",
    "\n",
    "        if cube.is_valid_magic_cube():\n",
    "            print(f\"Solusi ditemukan setelah {iteration} iterasi.\") # kalau udah nemu jawabannya yaitu 0\n",
    "            break\n",
    "\n",
    "    duration = time.time() - start_time \n",
    "    print(f\"Final State: {current_fx}\") \n",
    "    return cube, history, iteration, duration"
   ]
  },
  {
   "cell_type": "code",
   "execution_count": null,
   "metadata": {},
   "outputs": [],
   "source": [
    "def visualize_experiment(initial_cube, final_cube, history):\n",
    "    print(\"Initial State:\")\n",
    "    initial_cube.visualize()\n",
    "\n",
    "    print(\"Final State:\")\n",
    "    final_cube.visualize()\n",
    "\n",
    "    plt.plot(range(len(history)), history, color='blue')\n",
    "    plt.title('Objective Function terhadap Banyak Iterasi')\n",
    "    plt.xlabel('Iterasi')\n",
    "    plt.ylabel('Objective Function (f(x))')\n",
    "    plt.grid(True)\n",
    "    plt.show()"
   ]
  },
  {
   "cell_type": "code",
   "execution_count": null,
   "metadata": {},
   "outputs": [],
   "source": [
    "if __name__ == \"__main__\":\n",
    "    initial_cube = MagicCube(n=5)\n",
    "\n",
    "    final_cube, history, iterations, duration = stochastic_hill_climbing(initial_cube)\n",
    "\n",
    "    print(f\"Total Iterasi: {iterations}\")\n",
    "    print(f\"Durasi: {duration:.2f} detik\")\n",
    "    visualize_experiment(initial_cube, final_cube, history)"
   ]
  }
 ],
 "metadata": {
  "kernelspec": {
   "display_name": "Python 3",
   "language": "python",
   "name": "python3"
  },
  "language_info": {
   "codemirror_mode": {
    "name": "ipython",
    "version": 3
   },
   "file_extension": ".py",
   "mimetype": "text/x-python",
   "name": "python",
   "nbconvert_exporter": "python",
   "pygments_lexer": "ipython3",
   "version": "3.11.6"
  }
 },
 "nbformat": 4,
 "nbformat_minor": 2
}
